{
 "cells": [
  {
   "cell_type": "code",
   "execution_count": 2,
   "metadata": {},
   "outputs": [],
   "source": [
    "import pandas as pd\n",
    "import numpy as np"
   ]
  },
  {
   "cell_type": "code",
   "execution_count": 18,
   "metadata": {},
   "outputs": [],
   "source": [
    "df1 = pd.read_csv('AutoSleep-20200124-to-20231109.csv')\n",
    "df2 = pd.read_csv('AutoSleep-20231018-to-20240415.csv')\n",
    "\n",
    "# Convert 'fromDate' to datetime\n",
    "# df1['fromDate'] = pd.to_datetime(df1['fromDate'])\n",
    "# df2['fromDate'] = pd.to_datetime(df2['fromDate'])\n",
    "\n",
    "# Filter out rows from df2 that are already in df1\n",
    "df2 = df2[~df2['fromDate'].isin(df1['fromDate'])]\n",
    "\n",
    "# Concatenate the DataFrames\n",
    "df = pd.concat([df1, df2])"
   ]
  },
  {
   "cell_type": "code",
   "execution_count": 20,
   "metadata": {},
   "outputs": [
    {
     "name": "stdout",
     "output_type": "stream",
     "text": [
      "<class 'pandas.core.frame.DataFrame'>\n",
      "Int64Index: 1296 entries, 0 to 140\n",
      "Data columns (total 35 columns):\n",
      " #   Column          Non-Null Count  Dtype  \n",
      "---  ------          --------------  -----  \n",
      " 0   ISO8601         1296 non-null   object \n",
      " 1   fromDate        1296 non-null   object \n",
      " 2   toDate          1296 non-null   object \n",
      " 3   bedtime         1296 non-null   object \n",
      " 4   waketime        1296 non-null   object \n",
      " 5   inBed           1296 non-null   object \n",
      " 6   awake           1296 non-null   object \n",
      " 7   fellAsleepIn    1295 non-null   object \n",
      " 8   sessions        1296 non-null   int64  \n",
      " 9   asleep          1296 non-null   object \n",
      " 10  asleepAvg7      1296 non-null   object \n",
      " 11  efficiency      1296 non-null   float64\n",
      " 12  efficiencyAvg7  1296 non-null   float64\n",
      " 13  quality         1295 non-null   object \n",
      " 14  qualityAvg7     1295 non-null   object \n",
      " 15  deep            1295 non-null   object \n",
      " 16  deepAvg7        1295 non-null   object \n",
      " 17  sleepBPM        1295 non-null   float64\n",
      " 18  sleepBPMAvg7    1295 non-null   float64\n",
      " 19  dayBPM          1130 non-null   float64\n",
      " 20  dayBPMAvg7      1130 non-null   float64\n",
      " 21  wakingBPM       1294 non-null   float64\n",
      " 22  wakingBPMAvg7   1294 non-null   float64\n",
      " 23  hrv             1293 non-null   float64\n",
      " 24  hrvAvg7         1293 non-null   float64\n",
      " 25  sleepHRV        1289 non-null   float64\n",
      " 26  sleepHRVAvg7    1289 non-null   float64\n",
      " 27  SpO2Avg         0 non-null      float64\n",
      " 28  SpO2Min         0 non-null      float64\n",
      " 29  SpO2Max         0 non-null      float64\n",
      " 30  respAvg         35 non-null     float64\n",
      " 31  respMin         35 non-null     float64\n",
      " 32  respMax         35 non-null     float64\n",
      " 33  tags            2 non-null      object \n",
      " 34  notes           1 non-null      object \n",
      "dtypes: float64(18), int64(1), object(16)\n",
      "memory usage: 364.5+ KB\n"
     ]
    }
   ],
   "source": [
    "df.info()"
   ]
  }
 ],
 "metadata": {
  "kernelspec": {
   "display_name": "Python 3",
   "language": "python",
   "name": "python3"
  },
  "language_info": {
   "codemirror_mode": {
    "name": "ipython",
    "version": 3
   },
   "file_extension": ".py",
   "mimetype": "text/x-python",
   "name": "python",
   "nbconvert_exporter": "python",
   "pygments_lexer": "ipython3",
   "version": "3.11.0"
  }
 },
 "nbformat": 4,
 "nbformat_minor": 2
}
