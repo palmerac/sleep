{
 "cells": [
  {
   "cell_type": "code",
   "execution_count": 169,
   "metadata": {},
   "outputs": [],
   "source": [
    "import pandas as pd\n",
    "import numpy as np"
   ]
  },
  {
   "cell_type": "code",
   "execution_count": 170,
   "metadata": {},
   "outputs": [],
   "source": [
    "df1 = pd.read_csv('AutoSleep-20200124-to-20231109.csv')\n",
    "df2 = pd.read_csv('AutoSleep-20231018-to-20240415.csv')\n",
    "\n",
    "# Convert 'fromDate' to datetime\n",
    "# df1['fromDate'] = pd.to_datetime(df1['fromDate'])\n",
    "# df2['fromDate'] = pd.to_datetime(df2['fromDate'])\n",
    "\n",
    "# Filter out rows from df2 that are already in df1\n",
    "df2 = df2[~df2['fromDate'].isin(df1['fromDate'])]\n",
    "\n",
    "# Concatenate the DataFrames\n",
    "df = pd.concat([df1, df2])"
   ]
  },
  {
   "cell_type": "code",
   "execution_count": 171,
   "metadata": {},
   "outputs": [
    {
     "name": "stdout",
     "output_type": "stream",
     "text": [
      "<class 'pandas.core.frame.DataFrame'>\n",
      "Int64Index: 1296 entries, 0 to 140\n",
      "Data columns (total 26 columns):\n",
      " #   Column          Non-Null Count  Dtype  \n",
      "---  ------          --------------  -----  \n",
      " 0   ISO8601         1296 non-null   object \n",
      " 1   fromDate        1296 non-null   object \n",
      " 2   toDate          1296 non-null   object \n",
      " 3   bedtime         1296 non-null   object \n",
      " 4   waketime        1296 non-null   object \n",
      " 5   inBed           1296 non-null   object \n",
      " 6   awake           1296 non-null   object \n",
      " 7   sessions        1296 non-null   int64  \n",
      " 8   asleep          1296 non-null   object \n",
      " 9   asleepAvg7      1296 non-null   object \n",
      " 10  efficiency      1296 non-null   float64\n",
      " 11  efficiencyAvg7  1296 non-null   float64\n",
      " 12  quality         1295 non-null   object \n",
      " 13  qualityAvg7     1295 non-null   object \n",
      " 14  deep            1295 non-null   object \n",
      " 15  deepAvg7        1295 non-null   object \n",
      " 16  sleepBPM        1295 non-null   float64\n",
      " 17  sleepBPMAvg7    1295 non-null   float64\n",
      " 18  dayBPM          1130 non-null   float64\n",
      " 19  dayBPMAvg7      1130 non-null   float64\n",
      " 20  wakingBPM       1294 non-null   float64\n",
      " 21  wakingBPMAvg7   1294 non-null   float64\n",
      " 22  hrv             1293 non-null   float64\n",
      " 23  hrvAvg7         1293 non-null   float64\n",
      " 24  sleepHRV        1289 non-null   float64\n",
      " 25  sleepHRVAvg7    1289 non-null   float64\n",
      "dtypes: float64(12), int64(1), object(13)\n",
      "memory usage: 273.4+ KB\n"
     ]
    }
   ],
   "source": [
    "df = df.drop(['fellAsleepIn', 'SpO2Avg', 'SpO2Min', 'SpO2Max', 'respAvg', 'respMin', 'respMax',\n",
    "              'tags', 'notes'], axis=1)\n",
    "\n",
    "df.info()"
   ]
  },
  {
   "cell_type": "code",
   "execution_count": 172,
   "metadata": {},
   "outputs": [],
   "source": [
    "df['ISO8601'] = pd.to_datetime(df['ISO8601'])\n",
    "df['fromDate'] = pd.to_datetime(df['fromDate'], format='%A, %b %d, %Y')\n",
    "df['toDate'] = pd.to_datetime(df['toDate'], format='%A, %b %d, %Y')\n",
    "df['bedtime'] = pd.to_datetime(df['bedtime']).dt.time\n",
    "df['waketime'] = pd.to_datetime(df['waketime']).dt.time\n",
    "\n",
    "df['inBed'] = pd.to_datetime(df['inBed'], format='%H:%M:%S').dt.time\n",
    "df['awake'] = pd.to_datetime(df['awake'], format='%H:%M:%S').dt.time\n",
    "df['asleep'] = pd.to_datetime(df['asleep'], format='%H:%M:%S').dt.time\n",
    "df['asleepAvg7'] = pd.to_datetime(df['asleepAvg7'], format='%H:%M:%S').dt.time\n"
   ]
  },
  {
   "cell_type": "code",
   "execution_count": 173,
   "metadata": {},
   "outputs": [],
   "source": [
    "def med(col):\n",
    "    df[col] = df[col].apply(lambda x: x.hour * 60 + x.minute)\n",
    "    median_asleep = df[col].median()\n",
    "    median_asleep = f\"{int(median_asleep / 60)}:{int(median_asleep % 60)}\"\n",
    "    return print(median_asleep)\n",
    "\n",
    "def avg(col):\n",
    "    df[col] = df[col].apply(lambda x: x.hour * 60 + x.minute)\n",
    "    avg_asleep = df[col].mode()\n",
    "    avg_asleep = f\"{int(avg_asleep / 60)}:{int(avg_asleep % 60)}\"\n",
    "    return print(avg_asleep)"
   ]
  },
  {
   "cell_type": "code",
   "execution_count": 174,
   "metadata": {},
   "outputs": [
    {
     "name": "stdout",
     "output_type": "stream",
     "text": [
      "7:17\n",
      "7:59\n",
      "0:34\n"
     ]
    }
   ],
   "source": [
    "med('asleep')\n",
    "med('inBed')\n",
    "med('awake')"
   ]
  },
  {
   "cell_type": "code",
   "execution_count": 176,
   "metadata": {},
   "outputs": [
    {
     "ename": "AttributeError",
     "evalue": "'int' object has no attribute 'hour'",
     "output_type": "error",
     "traceback": [
      "\u001b[0;31m---------------------------------------------------------------------------\u001b[0m",
      "\u001b[0;31mAttributeError\u001b[0m                            Traceback (most recent call last)",
      "Cell \u001b[0;32mIn[176], line 1\u001b[0m\n\u001b[0;32m----> 1\u001b[0m \u001b[43mavg\u001b[49m\u001b[43m(\u001b[49m\u001b[38;5;124;43m'\u001b[39;49m\u001b[38;5;124;43mawake\u001b[39;49m\u001b[38;5;124;43m'\u001b[39;49m\u001b[43m)\u001b[49m\n",
      "Cell \u001b[0;32mIn[173], line 8\u001b[0m, in \u001b[0;36mavg\u001b[0;34m(col)\u001b[0m\n\u001b[1;32m      7\u001b[0m \u001b[38;5;28;01mdef\u001b[39;00m \u001b[38;5;21mavg\u001b[39m(col):\n\u001b[0;32m----> 8\u001b[0m     df[col] \u001b[38;5;241m=\u001b[39m \u001b[43mdf\u001b[49m\u001b[43m[\u001b[49m\u001b[43mcol\u001b[49m\u001b[43m]\u001b[49m\u001b[38;5;241;43m.\u001b[39;49m\u001b[43mapply\u001b[49m\u001b[43m(\u001b[49m\u001b[38;5;28;43;01mlambda\u001b[39;49;00m\u001b[43m \u001b[49m\u001b[43mx\u001b[49m\u001b[43m:\u001b[49m\u001b[43m \u001b[49m\u001b[43mx\u001b[49m\u001b[38;5;241;43m.\u001b[39;49m\u001b[43mhour\u001b[49m\u001b[43m \u001b[49m\u001b[38;5;241;43m*\u001b[39;49m\u001b[43m \u001b[49m\u001b[38;5;241;43m60\u001b[39;49m\u001b[43m \u001b[49m\u001b[38;5;241;43m+\u001b[39;49m\u001b[43m \u001b[49m\u001b[43mx\u001b[49m\u001b[38;5;241;43m.\u001b[39;49m\u001b[43mminute\u001b[49m\u001b[43m)\u001b[49m\n\u001b[1;32m      9\u001b[0m     avg_asleep \u001b[38;5;241m=\u001b[39m df[col]\u001b[38;5;241m.\u001b[39mmode()\n\u001b[1;32m     10\u001b[0m     avg_asleep \u001b[38;5;241m=\u001b[39m \u001b[38;5;124mf\u001b[39m\u001b[38;5;124m\"\u001b[39m\u001b[38;5;132;01m{\u001b[39;00m\u001b[38;5;28mint\u001b[39m(avg_asleep\u001b[38;5;250m \u001b[39m\u001b[38;5;241m/\u001b[39m\u001b[38;5;250m \u001b[39m\u001b[38;5;241m60\u001b[39m)\u001b[38;5;132;01m}\u001b[39;00m\u001b[38;5;124m:\u001b[39m\u001b[38;5;132;01m{\u001b[39;00m\u001b[38;5;28mint\u001b[39m(avg_asleep\u001b[38;5;250m \u001b[39m\u001b[38;5;241m%\u001b[39m\u001b[38;5;250m \u001b[39m\u001b[38;5;241m60\u001b[39m)\u001b[38;5;132;01m}\u001b[39;00m\u001b[38;5;124m\"\u001b[39m\n",
      "File \u001b[0;32m/Library/Frameworks/Python.framework/Versions/3.11/lib/python3.11/site-packages/pandas/core/series.py:4771\u001b[0m, in \u001b[0;36mSeries.apply\u001b[0;34m(self, func, convert_dtype, args, **kwargs)\u001b[0m\n\u001b[1;32m   4661\u001b[0m \u001b[38;5;28;01mdef\u001b[39;00m \u001b[38;5;21mapply\u001b[39m(\n\u001b[1;32m   4662\u001b[0m     \u001b[38;5;28mself\u001b[39m,\n\u001b[1;32m   4663\u001b[0m     func: AggFuncType,\n\u001b[0;32m   (...)\u001b[0m\n\u001b[1;32m   4666\u001b[0m     \u001b[38;5;241m*\u001b[39m\u001b[38;5;241m*\u001b[39mkwargs,\n\u001b[1;32m   4667\u001b[0m ) \u001b[38;5;241m-\u001b[39m\u001b[38;5;241m>\u001b[39m DataFrame \u001b[38;5;241m|\u001b[39m Series:\n\u001b[1;32m   4668\u001b[0m \u001b[38;5;250m    \u001b[39m\u001b[38;5;124;03m\"\"\"\u001b[39;00m\n\u001b[1;32m   4669\u001b[0m \u001b[38;5;124;03m    Invoke function on values of Series.\u001b[39;00m\n\u001b[1;32m   4670\u001b[0m \n\u001b[0;32m   (...)\u001b[0m\n\u001b[1;32m   4769\u001b[0m \u001b[38;5;124;03m    dtype: float64\u001b[39;00m\n\u001b[1;32m   4770\u001b[0m \u001b[38;5;124;03m    \"\"\"\u001b[39;00m\n\u001b[0;32m-> 4771\u001b[0m     \u001b[38;5;28;01mreturn\u001b[39;00m \u001b[43mSeriesApply\u001b[49m\u001b[43m(\u001b[49m\u001b[38;5;28;43mself\u001b[39;49m\u001b[43m,\u001b[49m\u001b[43m \u001b[49m\u001b[43mfunc\u001b[49m\u001b[43m,\u001b[49m\u001b[43m \u001b[49m\u001b[43mconvert_dtype\u001b[49m\u001b[43m,\u001b[49m\u001b[43m \u001b[49m\u001b[43margs\u001b[49m\u001b[43m,\u001b[49m\u001b[43m \u001b[49m\u001b[43mkwargs\u001b[49m\u001b[43m)\u001b[49m\u001b[38;5;241;43m.\u001b[39;49m\u001b[43mapply\u001b[49m\u001b[43m(\u001b[49m\u001b[43m)\u001b[49m\n",
      "File \u001b[0;32m/Library/Frameworks/Python.framework/Versions/3.11/lib/python3.11/site-packages/pandas/core/apply.py:1105\u001b[0m, in \u001b[0;36mSeriesApply.apply\u001b[0;34m(self)\u001b[0m\n\u001b[1;32m   1102\u001b[0m     \u001b[38;5;28;01mreturn\u001b[39;00m \u001b[38;5;28mself\u001b[39m\u001b[38;5;241m.\u001b[39mapply_str()\n\u001b[1;32m   1104\u001b[0m \u001b[38;5;66;03m# self.f is Callable\u001b[39;00m\n\u001b[0;32m-> 1105\u001b[0m \u001b[38;5;28;01mreturn\u001b[39;00m \u001b[38;5;28;43mself\u001b[39;49m\u001b[38;5;241;43m.\u001b[39;49m\u001b[43mapply_standard\u001b[49m\u001b[43m(\u001b[49m\u001b[43m)\u001b[49m\n",
      "File \u001b[0;32m/Library/Frameworks/Python.framework/Versions/3.11/lib/python3.11/site-packages/pandas/core/apply.py:1156\u001b[0m, in \u001b[0;36mSeriesApply.apply_standard\u001b[0;34m(self)\u001b[0m\n\u001b[1;32m   1154\u001b[0m     \u001b[38;5;28;01melse\u001b[39;00m:\n\u001b[1;32m   1155\u001b[0m         values \u001b[38;5;241m=\u001b[39m obj\u001b[38;5;241m.\u001b[39mastype(\u001b[38;5;28mobject\u001b[39m)\u001b[38;5;241m.\u001b[39m_values\n\u001b[0;32m-> 1156\u001b[0m         mapped \u001b[38;5;241m=\u001b[39m \u001b[43mlib\u001b[49m\u001b[38;5;241;43m.\u001b[39;49m\u001b[43mmap_infer\u001b[49m\u001b[43m(\u001b[49m\n\u001b[1;32m   1157\u001b[0m \u001b[43m            \u001b[49m\u001b[43mvalues\u001b[49m\u001b[43m,\u001b[49m\n\u001b[1;32m   1158\u001b[0m \u001b[43m            \u001b[49m\u001b[43mf\u001b[49m\u001b[43m,\u001b[49m\n\u001b[1;32m   1159\u001b[0m \u001b[43m            \u001b[49m\u001b[43mconvert\u001b[49m\u001b[38;5;241;43m=\u001b[39;49m\u001b[38;5;28;43mself\u001b[39;49m\u001b[38;5;241;43m.\u001b[39;49m\u001b[43mconvert_dtype\u001b[49m\u001b[43m,\u001b[49m\n\u001b[1;32m   1160\u001b[0m \u001b[43m        \u001b[49m\u001b[43m)\u001b[49m\n\u001b[1;32m   1162\u001b[0m \u001b[38;5;28;01mif\u001b[39;00m \u001b[38;5;28mlen\u001b[39m(mapped) \u001b[38;5;129;01mand\u001b[39;00m \u001b[38;5;28misinstance\u001b[39m(mapped[\u001b[38;5;241m0\u001b[39m], ABCSeries):\n\u001b[1;32m   1163\u001b[0m     \u001b[38;5;66;03m# GH#43986 Need to do list(mapped) in order to get treated as nested\u001b[39;00m\n\u001b[1;32m   1164\u001b[0m     \u001b[38;5;66;03m#  See also GH#25959 regarding EA support\u001b[39;00m\n\u001b[1;32m   1165\u001b[0m     \u001b[38;5;28;01mreturn\u001b[39;00m obj\u001b[38;5;241m.\u001b[39m_constructor_expanddim(\u001b[38;5;28mlist\u001b[39m(mapped), index\u001b[38;5;241m=\u001b[39mobj\u001b[38;5;241m.\u001b[39mindex)\n",
      "File \u001b[0;32m/Library/Frameworks/Python.framework/Versions/3.11/lib/python3.11/site-packages/pandas/_libs/lib.pyx:2918\u001b[0m, in \u001b[0;36mpandas._libs.lib.map_infer\u001b[0;34m()\u001b[0m\n",
      "Cell \u001b[0;32mIn[173], line 8\u001b[0m, in \u001b[0;36mavg.<locals>.<lambda>\u001b[0;34m(x)\u001b[0m\n\u001b[1;32m      7\u001b[0m \u001b[38;5;28;01mdef\u001b[39;00m \u001b[38;5;21mavg\u001b[39m(col):\n\u001b[0;32m----> 8\u001b[0m     df[col] \u001b[38;5;241m=\u001b[39m df[col]\u001b[38;5;241m.\u001b[39mapply(\u001b[38;5;28;01mlambda\u001b[39;00m x: \u001b[43mx\u001b[49m\u001b[38;5;241;43m.\u001b[39;49m\u001b[43mhour\u001b[49m \u001b[38;5;241m*\u001b[39m \u001b[38;5;241m60\u001b[39m \u001b[38;5;241m+\u001b[39m x\u001b[38;5;241m.\u001b[39mminute)\n\u001b[1;32m      9\u001b[0m     avg_asleep \u001b[38;5;241m=\u001b[39m df[col]\u001b[38;5;241m.\u001b[39mmode()\n\u001b[1;32m     10\u001b[0m     avg_asleep \u001b[38;5;241m=\u001b[39m \u001b[38;5;124mf\u001b[39m\u001b[38;5;124m\"\u001b[39m\u001b[38;5;132;01m{\u001b[39;00m\u001b[38;5;28mint\u001b[39m(avg_asleep\u001b[38;5;250m \u001b[39m\u001b[38;5;241m/\u001b[39m\u001b[38;5;250m \u001b[39m\u001b[38;5;241m60\u001b[39m)\u001b[38;5;132;01m}\u001b[39;00m\u001b[38;5;124m:\u001b[39m\u001b[38;5;132;01m{\u001b[39;00m\u001b[38;5;28mint\u001b[39m(avg_asleep\u001b[38;5;250m \u001b[39m\u001b[38;5;241m%\u001b[39m\u001b[38;5;250m \u001b[39m\u001b[38;5;241m60\u001b[39m)\u001b[38;5;132;01m}\u001b[39;00m\u001b[38;5;124m\"\u001b[39m\n",
      "\u001b[0;31mAttributeError\u001b[0m: 'int' object has no attribute 'hour'"
     ]
    }
   ],
   "source": [
    "avg('awake')"
   ]
  },
  {
   "cell_type": "code",
   "execution_count": null,
   "metadata": {},
   "outputs": [
    {
     "name": "stdout",
     "output_type": "stream",
     "text": [
      "<class 'pandas.core.frame.DataFrame'>\n",
      "Int64Index: 1296 entries, 0 to 140\n",
      "Data columns (total 26 columns):\n",
      " #   Column          Non-Null Count  Dtype         \n",
      "---  ------          --------------  -----         \n",
      " 0   ISO8601         1296 non-null   object        \n",
      " 1   fromDate        1296 non-null   datetime64[ns]\n",
      " 2   toDate          1296 non-null   datetime64[ns]\n",
      " 3   bedtime         1296 non-null   object        \n",
      " 4   waketime        1296 non-null   object        \n",
      " 5   inBed           1296 non-null   int64         \n",
      " 6   awake           1296 non-null   int64         \n",
      " 7   sessions        1296 non-null   int64         \n",
      " 8   asleep          1296 non-null   int64         \n",
      " 9   asleepAvg7      1296 non-null   object        \n",
      " 10  efficiency      1296 non-null   float64       \n",
      " 11  efficiencyAvg7  1296 non-null   float64       \n",
      " 12  quality         1295 non-null   object        \n",
      " 13  qualityAvg7     1295 non-null   object        \n",
      " 14  deep            1295 non-null   object        \n",
      " 15  deepAvg7        1295 non-null   object        \n",
      " 16  sleepBPM        1295 non-null   float64       \n",
      " 17  sleepBPMAvg7    1295 non-null   float64       \n",
      " 18  dayBPM          1130 non-null   float64       \n",
      " 19  dayBPMAvg7      1130 non-null   float64       \n",
      " 20  wakingBPM       1294 non-null   float64       \n",
      " 21  wakingBPMAvg7   1294 non-null   float64       \n",
      " 22  hrv             1293 non-null   float64       \n",
      " 23  hrvAvg7         1293 non-null   float64       \n",
      " 24  sleepHRV        1289 non-null   float64       \n",
      " 25  sleepHRVAvg7    1289 non-null   float64       \n",
      "dtypes: datetime64[ns](2), float64(12), int64(4), object(8)\n",
      "memory usage: 273.4+ KB\n"
     ]
    }
   ],
   "source": [
    "df.info()"
   ]
  },
  {
   "cell_type": "code",
   "execution_count": 177,
   "metadata": {},
   "outputs": [
    {
     "ename": "SyntaxError",
     "evalue": "invalid syntax (75238944.py, line 1)",
     "output_type": "error",
     "traceback": [
      "\u001b[0;36m  Cell \u001b[0;32mIn[177], line 1\u001b[0;36m\u001b[0m\n\u001b[0;31m    git remote add origin 'git@github.com:palmerac/sleep.git'\u001b[0m\n\u001b[0m        ^\u001b[0m\n\u001b[0;31mSyntaxError\u001b[0m\u001b[0;31m:\u001b[0m invalid syntax\n"
     ]
    }
   ],
   "source": [
    "git remote add origin 'git@github.com:palmerac/sleep.git'\n",
    "\n",
    "git push -u origin master"
   ]
  }
 ],
 "metadata": {
  "kernelspec": {
   "display_name": "Python 3",
   "language": "python",
   "name": "python3"
  },
  "language_info": {
   "codemirror_mode": {
    "name": "ipython",
    "version": 3
   },
   "file_extension": ".py",
   "mimetype": "text/x-python",
   "name": "python",
   "nbconvert_exporter": "python",
   "pygments_lexer": "ipython3",
   "version": "3.11.0"
  }
 },
 "nbformat": 4,
 "nbformat_minor": 2
}
